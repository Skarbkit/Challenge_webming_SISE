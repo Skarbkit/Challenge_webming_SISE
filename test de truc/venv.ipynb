{
 "cells": [
  {
   "cell_type": "code",
   "execution_count": 7,
   "metadata": {},
   "outputs": [
    {
     "name": "stdout",
     "output_type": "stream",
     "text": [
      "Dites un truc mon reuf\n",
      "result2:\n",
      "{   'alternative': [   {'confidence': 0.8740443, 'transcript': 'print'},\n",
      "                       {'transcript': 'prince'},\n",
      "                       {'transcript': 'prints'}],\n",
      "    'final': True}\n",
      "Vous avez dit : print\n",
      "bravo BG !\n"
     ]
    }
   ],
   "source": [
    "import speech_recognition as sr\n",
    "\n",
    "r = sr.Recognizer()\n",
    "\n",
    "with sr.Microphone() as source:\n",
    "    print(\"Dites un truc mon reuf\")\n",
    "    audio = r.listen(source)\n",
    "\n",
    "try:\n",
    "    commande = r.recognize_google(audio, language='fr-FR')\n",
    "    print(\"Vous avez dit : \" + commande)\n",
    "    \n",
    "    if \"print\" in commande:\n",
    "        print(\"bravo BG !\")\n",
    "except sr.UnknownValueError:\n",
    "    print(\"pas compris\")\n",
    "except sr.RequestError as e:\n",
    "    print(\"Impossible; {0}\".format(e))"
   ]
  }
 ],
 "metadata": {
  "kernelspec": {
   "display_name": "venv",
   "language": "python",
   "name": "python3"
  },
  "language_info": {
   "codemirror_mode": {
    "name": "ipython",
    "version": 3
   },
   "file_extension": ".py",
   "mimetype": "text/x-python",
   "name": "python",
   "nbconvert_exporter": "python",
   "pygments_lexer": "ipython3",
   "version": "3.8.7"
  },
  "orig_nbformat": 4
 },
 "nbformat": 4,
 "nbformat_minor": 2
}
