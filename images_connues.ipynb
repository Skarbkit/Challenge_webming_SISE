{
 "cells": [
  {
   "cell_type": "code",
   "execution_count": 1,
   "metadata": {},
   "outputs": [],
   "source": [
    "import face_recognition\n",
    "import os\n",
    "\n",
    "known_faces = []\n",
    "known_names = []\n",
    "known_dir = \"C:/Users/cornuch/Documents/GitHub/Challenge_webming_SISE/photos/\"\n"
   ]
  },
  {
   "cell_type": "code",
   "execution_count": 2,
   "metadata": {},
   "outputs": [
    {
     "name": "stdout",
     "output_type": "stream",
     "text": [
      "Antoine Giroud.jpeg\n",
      "C:/Users/cornuch/Documents/GitHub/Challenge_webming_SISE/photos/Antoine Giroud.jpeg\n",
      "(1600, 1200, 3)\n",
      "(128,)\n",
      "['Antoine Giroud']\n",
      "Axel Eutarici.jpeg\n",
      "C:/Users/cornuch/Documents/GitHub/Challenge_webming_SISE/photos/Axel Eutarici.jpeg\n",
      "(1600, 1200, 3)\n",
      "(128,)\n",
      "['Antoine Giroud', 'Axel Eutarici']\n",
      "Christelle Cornu.jpeg\n",
      "C:/Users/cornuch/Documents/GitHub/Challenge_webming_SISE/photos/Christelle Cornu.jpeg\n",
      "(1600, 1200, 3)\n",
      "(128,)\n",
      "['Antoine Giroud', 'Axel Eutarici', 'Christelle Cornu']\n",
      "Christelle Kiemde.jpeg\n",
      "C:/Users/cornuch/Documents/GitHub/Challenge_webming_SISE/photos/Christelle Kiemde.jpeg\n",
      "(1280, 960, 3)\n",
      "(128,)\n",
      "['Antoine Giroud', 'Axel Eutarici', 'Christelle Cornu', 'Christelle Kiemde']\n",
      "Chrystelle Grosso.jpeg\n",
      "C:/Users/cornuch/Documents/GitHub/Challenge_webming_SISE/photos/Chrystelle Grosso.jpeg\n",
      "(1600, 1200, 3)\n",
      "(128,)\n",
      "['Antoine Giroud', 'Axel Eutarici', 'Christelle Cornu', 'Christelle Kiemde', 'Chrystelle Grosso']\n",
      "Fatimetou Haidara.jpeg\n",
      "C:/Users/cornuch/Documents/GitHub/Challenge_webming_SISE/photos/Fatimetou Haidara.jpeg\n",
      "(1600, 1200, 3)\n",
      "(128,)\n",
      "['Antoine Giroud', 'Axel Eutarici', 'Christelle Cornu', 'Christelle Kiemde', 'Chrystelle Grosso', 'Fatimetou Haidara']\n",
      "Florian Ricard.jpeg\n",
      "C:/Users/cornuch/Documents/GitHub/Challenge_webming_SISE/photos/Florian Ricard.jpeg\n",
      "(1600, 1200, 3)\n",
      "(128,)\n",
      "['Antoine Giroud', 'Axel Eutarici', 'Christelle Cornu', 'Christelle Kiemde', 'Chrystelle Grosso', 'Fatimetou Haidara', 'Florian Ricard']\n",
      "Ibtissam Slalmi.jpeg\n",
      "C:/Users/cornuch/Documents/GitHub/Challenge_webming_SISE/photos/Ibtissam Slalmi.jpeg\n",
      "(1600, 1200, 3)\n",
      "(128,)\n",
      "['Antoine Giroud', 'Axel Eutarici', 'Christelle Cornu', 'Christelle Kiemde', 'Chrystelle Grosso', 'Fatimetou Haidara', 'Florian Ricard', 'Ibtissam Slalmi']\n",
      "Laura Boutonnet.jpeg\n",
      "C:/Users/cornuch/Documents/GitHub/Challenge_webming_SISE/photos/Laura Boutonnet.jpeg\n",
      "(1600, 1220, 3)\n",
      "(128,)\n",
      "['Antoine Giroud', 'Axel Eutarici', 'Christelle Cornu', 'Christelle Kiemde', 'Chrystelle Grosso', 'Fatimetou Haidara', 'Florian Ricard', 'Ibtissam Slalmi', 'Laura Boutonnet']\n",
      "Louison Papazian.jpeg\n",
      "C:/Users/cornuch/Documents/GitHub/Challenge_webming_SISE/photos/Louison Papazian.jpeg\n",
      "(1600, 1200, 3)\n",
      "(128,)\n",
      "['Antoine Giroud', 'Axel Eutarici', 'Christelle Cornu', 'Christelle Kiemde', 'Chrystelle Grosso', 'Fatimetou Haidara', 'Florian Ricard', 'Ibtissam Slalmi', 'Laura Boutonnet', 'Louison Papazian']\n",
      "Loïc Spica.jpeg\n",
      "C:/Users/cornuch/Documents/GitHub/Challenge_webming_SISE/photos/Loïc Spica.jpeg\n",
      "(1600, 1200, 3)\n",
      "(128,)\n",
      "['Antoine Giroud', 'Axel Eutarici', 'Christelle Cornu', 'Christelle Kiemde', 'Chrystelle Grosso', 'Fatimetou Haidara', 'Florian Ricard', 'Ibtissam Slalmi', 'Laura Boutonnet', 'Louison Papazian', 'Loïc Spica']\n",
      "Léo Haton.jpeg\n",
      "C:/Users/cornuch/Documents/GitHub/Challenge_webming_SISE/photos/Léo Haton.jpeg\n",
      "(1600, 1200, 3)\n",
      "(128,)\n",
      "['Antoine Giroud', 'Axel Eutarici', 'Christelle Cornu', 'Christelle Kiemde', 'Chrystelle Grosso', 'Fatimetou Haidara', 'Florian Ricard', 'Ibtissam Slalmi', 'Laura Boutonnet', 'Louison Papazian', 'Loïc Spica', 'Léo Haton']\n",
      "Martin Schultz.jpeg\n",
      "C:/Users/cornuch/Documents/GitHub/Challenge_webming_SISE/photos/Martin Schultz.jpeg\n",
      "(1600, 1200, 3)\n",
      "(128,)\n",
      "['Antoine Giroud', 'Axel Eutarici', 'Christelle Cornu', 'Christelle Kiemde', 'Chrystelle Grosso', 'Fatimetou Haidara', 'Florian Ricard', 'Ibtissam Slalmi', 'Laura Boutonnet', 'Louison Papazian', 'Loïc Spica', 'Léo Haton', 'Martin Schultz']\n",
      "Matthieu Allier.jpeg\n",
      "C:/Users/cornuch/Documents/GitHub/Challenge_webming_SISE/photos/Matthieu Allier.jpeg\n",
      "(1600, 1200, 3)\n",
      "(128,)\n",
      "['Antoine Giroud', 'Axel Eutarici', 'Christelle Cornu', 'Christelle Kiemde', 'Chrystelle Grosso', 'Fatimetou Haidara', 'Florian Ricard', 'Ibtissam Slalmi', 'Laura Boutonnet', 'Louison Papazian', 'Loïc Spica', 'Léo Haton', 'Martin Schultz', 'Matthieu Allier']\n",
      "Nawres Dhiflaoui.jpeg\n",
      "C:/Users/cornuch/Documents/GitHub/Challenge_webming_SISE/photos/Nawres Dhiflaoui.jpeg\n",
      "(1280, 960, 3)\n",
      "(128,)\n",
      "['Antoine Giroud', 'Axel Eutarici', 'Christelle Cornu', 'Christelle Kiemde', 'Chrystelle Grosso', 'Fatimetou Haidara', 'Florian Ricard', 'Ibtissam Slalmi', 'Laura Boutonnet', 'Louison Papazian', 'Loïc Spica', 'Léo Haton', 'Martin Schultz', 'Matthieu Allier', 'Nawres Dhiflaoui']\n",
      "Pauline Attal.jpeg\n",
      "C:/Users/cornuch/Documents/GitHub/Challenge_webming_SISE/photos/Pauline Attal.jpeg\n",
      "(1600, 1200, 3)\n",
      "(128,)\n",
      "['Antoine Giroud', 'Axel Eutarici', 'Christelle Cornu', 'Christelle Kiemde', 'Chrystelle Grosso', 'Fatimetou Haidara', 'Florian Ricard', 'Ibtissam Slalmi', 'Laura Boutonnet', 'Louison Papazian', 'Loïc Spica', 'Léo Haton', 'Martin Schultz', 'Matthieu Allier', 'Nawres Dhiflaoui', 'Pauline Attal']\n",
      "Pierre Dubrule.jpeg\n",
      "C:/Users/cornuch/Documents/GitHub/Challenge_webming_SISE/photos/Pierre Dubrule.jpeg\n",
      "(1600, 1200, 3)\n",
      "(128,)\n",
      "['Antoine Giroud', 'Axel Eutarici', 'Christelle Cornu', 'Christelle Kiemde', 'Chrystelle Grosso', 'Fatimetou Haidara', 'Florian Ricard', 'Ibtissam Slalmi', 'Laura Boutonnet', 'Louison Papazian', 'Loïc Spica', 'Léo Haton', 'Martin Schultz', 'Matthieu Allier', 'Nawres Dhiflaoui', 'Pauline Attal', 'Pierre Dubrule']\n",
      "Robin Ponson.jpeg\n",
      "C:/Users/cornuch/Documents/GitHub/Challenge_webming_SISE/photos/Robin Ponson.jpeg\n",
      "(1600, 1200, 3)\n",
      "(128,)\n",
      "['Antoine Giroud', 'Axel Eutarici', 'Christelle Cornu', 'Christelle Kiemde', 'Chrystelle Grosso', 'Fatimetou Haidara', 'Florian Ricard', 'Ibtissam Slalmi', 'Laura Boutonnet', 'Louison Papazian', 'Loïc Spica', 'Léo Haton', 'Martin Schultz', 'Matthieu Allier', 'Nawres Dhiflaoui', 'Pauline Attal', 'Pierre Dubrule', 'Robin Ponson']\n",
      "Samuel Ibghi.jpeg\n",
      "C:/Users/cornuch/Documents/GitHub/Challenge_webming_SISE/photos/Samuel Ibghi.jpeg\n",
      "(1600, 1200, 3)\n",
      "(128,)\n",
      "['Antoine Giroud', 'Axel Eutarici', 'Christelle Cornu', 'Christelle Kiemde', 'Chrystelle Grosso', 'Fatimetou Haidara', 'Florian Ricard', 'Ibtissam Slalmi', 'Laura Boutonnet', 'Louison Papazian', 'Loïc Spica', 'Léo Haton', 'Martin Schultz', 'Matthieu Allier', 'Nawres Dhiflaoui', 'Pauline Attal', 'Pierre Dubrule', 'Robin Ponson', 'Samuel Ibghi']\n",
      "Tho Hoang.jpeg\n",
      "C:/Users/cornuch/Documents/GitHub/Challenge_webming_SISE/photos/Tho Hoang.jpeg\n",
      "(1600, 1200, 3)\n",
      "(128,)\n",
      "['Antoine Giroud', 'Axel Eutarici', 'Christelle Cornu', 'Christelle Kiemde', 'Chrystelle Grosso', 'Fatimetou Haidara', 'Florian Ricard', 'Ibtissam Slalmi', 'Laura Boutonnet', 'Louison Papazian', 'Loïc Spica', 'Léo Haton', 'Martin Schultz', 'Matthieu Allier', 'Nawres Dhiflaoui', 'Pauline Attal', 'Pierre Dubrule', 'Robin Ponson', 'Samuel Ibghi', 'Tho Hoang']\n",
      "Titouan Houde.jpeg\n",
      "C:/Users/cornuch/Documents/GitHub/Challenge_webming_SISE/photos/Titouan Houde.jpeg\n",
      "(1600, 1200, 3)\n",
      "(128,)\n",
      "['Antoine Giroud', 'Axel Eutarici', 'Christelle Cornu', 'Christelle Kiemde', 'Chrystelle Grosso', 'Fatimetou Haidara', 'Florian Ricard', 'Ibtissam Slalmi', 'Laura Boutonnet', 'Louison Papazian', 'Loïc Spica', 'Léo Haton', 'Martin Schultz', 'Matthieu Allier', 'Nawres Dhiflaoui', 'Pauline Attal', 'Pierre Dubrule', 'Robin Ponson', 'Samuel Ibghi', 'Tho Hoang', 'Titouan Houde']\n"
     ]
    }
   ],
   "source": [
    "# Charger toutes les images connues dans le dossier 'known_faces'\n",
    "for file in os.listdir(known_dir):\n",
    "    print(file)\n",
    "    print(os.path.join(known_dir, file))\n",
    "    img = face_recognition.load_image_file(os.path.join(known_dir, file))\n",
    "    print(img.shape)\n",
    "    # Extraire l'encodage du visage de chaque image\n",
    "    encoding = face_recognition.face_encodings(img)[0]\n",
    "    print(encoding.shape)\n",
    "    known_faces.append(encoding)\n",
    "    known_names.append(file.split('.')[0])\n",
    "    print(known_names)\n"
   ]
  },
  {
   "cell_type": "code",
   "execution_count": 3,
   "metadata": {},
   "outputs": [
    {
     "data": {
      "text/plain": [
       "list"
      ]
     },
     "execution_count": 3,
     "metadata": {},
     "output_type": "execute_result"
    }
   ],
   "source": [
    "type(known_faces)"
   ]
  },
  {
   "cell_type": "code",
   "execution_count": 4,
   "metadata": {},
   "outputs": [
    {
     "data": {
      "text/plain": [
       "list"
      ]
     },
     "execution_count": 4,
     "metadata": {},
     "output_type": "execute_result"
    }
   ],
   "source": [
    "type(known_names)"
   ]
  },
  {
   "cell_type": "code",
   "execution_count": 5,
   "metadata": {},
   "outputs": [
    {
     "data": {
      "text/plain": [
       "array([-0.08685245,  0.06876706,  0.0824581 , -0.11936784, -0.06612629,\n",
       "        0.03560176,  0.01365476,  0.00994932,  0.1641541 , -0.10542578,\n",
       "        0.13235004, -0.02329864, -0.26416066,  0.08410721, -0.07302178,\n",
       "        0.10905681, -0.14584967, -0.12483186, -0.03398268, -0.10967987,\n",
       "        0.07352101,  0.07599128, -0.12406082,  0.01725985, -0.08109696,\n",
       "       -0.2620458 , -0.09646777, -0.06010989, -0.06366432, -0.13769248,\n",
       "        0.09083468,  0.00639456, -0.11815201,  0.01886141,  0.00513239,\n",
       "        0.04023098, -0.06220407, -0.06447587,  0.12926699,  0.07198059,\n",
       "       -0.12101178,  0.03196096,  0.03439541,  0.35512629,  0.12458362,\n",
       "        0.05570825, -0.0686045 , -0.03719331,  0.150159  , -0.33725426,\n",
       "        0.0971396 ,  0.10059249,  0.0782233 ,  0.0723822 ,  0.14192614,\n",
       "       -0.17451809, -0.01810344,  0.09886715, -0.15074727,  0.12163565,\n",
       "        0.01364443, -0.03874391,  0.01125499, -0.13486116,  0.12278677,\n",
       "        0.11692841, -0.14004271, -0.08453862,  0.11705835, -0.15165977,\n",
       "       -0.08260232,  0.01473333, -0.08870324, -0.14089666, -0.27126557,\n",
       "        0.0520426 ,  0.37068895,  0.15333477, -0.14412715, -0.06308381,\n",
       "       -0.0128341 ,  0.04208367,  0.08734314,  0.02425425, -0.12446799,\n",
       "       -0.01039686, -0.05379886,  0.04240985,  0.18665214,  0.01182386,\n",
       "       -0.12091988,  0.19354424, -0.05642942,  0.03173126,  0.00608471,\n",
       "        0.04131955, -0.08151492, -0.04878063, -0.17574219, -0.0190528 ,\n",
       "        0.0032256 , -0.11321421, -0.04681275,  0.17106177, -0.19844691,\n",
       "        0.14545351,  0.01017717, -0.02519591, -0.08034845,  0.09431881,\n",
       "       -0.19963984,  0.06450396,  0.18712269, -0.21626382,  0.16001724,\n",
       "        0.19333632,  0.0139585 ,  0.09406433,  0.07454158, -0.03254911,\n",
       "       -0.0337459 , -0.06936815, -0.16232395, -0.08784556,  0.02972391,\n",
       "        0.06414288,  0.01768751,  0.02778071])"
      ]
     },
     "execution_count": 5,
     "metadata": {},
     "output_type": "execute_result"
    }
   ],
   "source": [
    "known_faces[0]"
   ]
  },
  {
   "cell_type": "code",
   "execution_count": 8,
   "metadata": {},
   "outputs": [
    {
     "data": {
      "text/plain": [
       "21"
      ]
     },
     "execution_count": 8,
     "metadata": {},
     "output_type": "execute_result"
    }
   ],
   "source": [
    "len(known_names)"
   ]
  },
  {
   "cell_type": "code",
   "execution_count": 11,
   "metadata": {},
   "outputs": [
    {
     "name": "stdout",
     "output_type": "stream",
     "text": [
      "Antoine Giroud\n",
      "Axel Eutarici\n",
      "Christelle Cornu\n",
      "Christelle Kiemde\n",
      "Chrystelle Grosso\n",
      "Fatimetou Haidara\n",
      "Florian Ricard\n",
      "Ibtissam Slalmi\n",
      "Laura Boutonnet\n",
      "Louison Papazian\n",
      "Loïc Spica\n",
      "Léo Haton\n",
      "Martin Schultz\n",
      "Matthieu Allier\n",
      "Nawres Dhiflaoui\n",
      "Pauline Attal\n",
      "Pierre Dubrule\n",
      "Robin Ponson\n",
      "Samuel Ibghi\n",
      "Tho Hoang\n",
      "Titouan Houde\n"
     ]
    }
   ],
   "source": [
    "for i in range(len(known_names)):\n",
    "    print(known_names[i])\n"
   ]
  }
 ],
 "metadata": {
  "kernelspec": {
   "display_name": "Python 3.8.3 ('challenge')",
   "language": "python",
   "name": "python3"
  },
  "language_info": {
   "codemirror_mode": {
    "name": "ipython",
    "version": 3
   },
   "file_extension": ".py",
   "mimetype": "text/x-python",
   "name": "python",
   "nbconvert_exporter": "python",
   "pygments_lexer": "ipython3",
   "version": "3.8.3"
  },
  "orig_nbformat": 4,
  "vscode": {
   "interpreter": {
    "hash": "0f35e6ac3660572281f1fbcf6473cf7a681c830e3863bce019595d6ca7880ba0"
   }
  }
 },
 "nbformat": 4,
 "nbformat_minor": 2
}
